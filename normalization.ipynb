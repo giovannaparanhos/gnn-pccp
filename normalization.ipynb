{
 "cells": [
  {
   "cell_type": "code",
   "execution_count": 1,
   "id": "d52fd3c8-6d4a-48ae-9eaf-76b077868ca8",
   "metadata": {},
   "outputs": [],
   "source": [
    "from normalization import normalize_staining\n",
    "from glob import glob\n",
    "from os import makedirs\n",
    "from os.path import join\n",
    "import os\n",
    "import numpy as np\n",
    "from tqdm import tqdm\n",
    "from skimage.util import montage, view_as_windows\n",
    "from skimage import io\n",
    "from random import shuffle"
   ]
  },
  {
   "cell_type": "code",
   "execution_count": 2,
   "id": "f7c94a31-d7e6-4d5b-bb6f-80e4e8a619a5",
   "metadata": {},
   "outputs": [],
   "source": [
    "def mosaic_batch(batch_list):\n",
    "    img_list = []\n",
    "    for img_path in batch_list:\n",
    "        img_list.append(io.imread(img_path))\n",
    "    img_list_arr = np.stack(img_list) # (K, M, N[, C])\n",
    "    stitched = montage(img_list_arr, channel_axis=-1)\n",
    "    return stitched"
   ]
  },
  {
   "cell_type": "code",
   "execution_count": 3,
   "id": "033a3523-075b-4376-8e34-99c6e6a22210",
   "metadata": {},
   "outputs": [],
   "source": [
    "def normalize_batch(batch_list, patch_size):\n",
    "    stitched_batch = mosaic_batch(batch_list)\n",
    "    output = normalize_staining(stitched_batch)\n",
    "    imgs = view_as_windows(output, (patch_size, patch_size, 3), (patch_size, patch_size, 3))\n",
    "    return imgs"
   ]
  },
  {
   "cell_type": "code",
   "execution_count": 4,
   "id": "eb89fe21",
   "metadata": {},
   "outputs": [],
   "source": [
    "batch_size = 256\n",
    "patch_size = 256\n",
    "input_dir = 'data_bags_raw'\n",
    "output_dir = 'data_bags_normalized'\n",
    "makedirs(output_dir, exist_ok=True)\n",
    "input_files = glob(join('data_bags_raw/TMA/*/*/*.png'))"
   ]
  },
  {
   "cell_type": "code",
   "execution_count": 5,
   "id": "401b0262",
   "metadata": {},
   "outputs": [
    {
     "name": "stderr",
     "output_type": "stream",
     "text": [
      "100%|██████████| 353/353 [2:32:16<00:00, 25.88s/it]  \n"
     ]
    }
   ],
   "source": [
    "### batch of patches normalization\n",
    "shuffle(input_files)\n",
    "batches = [input_files[i:i+batch_size] for i in range(0, len(input_files), batch_size)]\n",
    "for batch in tqdm(batches):\n",
    "    imgs = normalize_batch(batch, patch_size)\n",
    "    imgs = imgs.reshape((-1, imgs.shape[-3], imgs.shape[-2], imgs.shape[-1]))\n",
    "    \n",
    "    for i, img_path in enumerate(batch):\n",
    "        class_name = img_path.split(os.sep)[-3]\n",
    "        slide_name = img_path.split(os.sep)[-2]\n",
    "        img_name = img_path.split(os.sep)[-1]\n",
    "        makedirs(join(output_dir, class_name, slide_name), exist_ok=True)\n",
    "        io.imsave(join(output_dir, class_name, slide_name, img_name.split('.')[0]+'.png'), imgs[i], check_contrast=False)"
   ]
  },
  {
   "cell_type": "code",
   "execution_count": null,
   "id": "faa846dc",
   "metadata": {},
   "outputs": [],
   "source": []
  }
 ],
 "metadata": {
  "interpreter": {
   "hash": "de88db708fd7569f2666ff37f921dc0f88a8459546879a55f00d65d0006c4c3e"
  },
  "kernelspec": {
   "display_name": "Python 3.8.13 ('pt')",
   "language": "python",
   "name": "python3"
  },
  "language_info": {
   "codemirror_mode": {
    "name": "ipython",
    "version": 3
   },
   "file_extension": ".py",
   "mimetype": "text/x-python",
   "name": "python",
   "nbconvert_exporter": "python",
   "pygments_lexer": "ipython3",
   "version": "3.8.13"
  }
 },
 "nbformat": 4,
 "nbformat_minor": 5
}
